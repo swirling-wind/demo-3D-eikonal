{
 "cells": [
  {
   "cell_type": "code",
   "execution_count": null,
   "metadata": {},
   "outputs": [],
   "source": [
    "import matplotlib\n",
    "import matplotlib.pyplot as plt\n",
    "matplotlib.use('Qt5Agg')\n",
    "%matplotlib widget\n",
    "\n",
    "import numpy as np"
   ]
  },
  {
   "cell_type": "code",
   "execution_count": null,
   "metadata": {},
   "outputs": [],
   "source": [
    "num_x, num_y, num_z = 20, 20, 20\n",
    "center = (num_x//2, num_y//2, num_z//2)\n",
    "radius = 8\n",
    "x, y, z = np.ogrid[:num_x, :num_y, :num_z]\n",
    "mask = (x - center[0])**2 + (y - center[1])**2 + (z - center[2])**2 <= radius**2\n",
    "convex_lens_ior_field = np.ones((num_x, num_y, num_z))\n",
    "convex_lens_ior_field[mask] = 1.5\n",
    "\n",
    "\n",
    "fig = plt.figure()\n",
    "ax = fig.add_subplot(111, projection='3d')\n",
    "ax.set_box_aspect([1,1,1])  # 设置比例为1:1:1\n",
    "ax.set_xlim(0, 20)\n",
    "ax.set_ylim(0, 20)\n",
    "ax.set_zlim(0, 20)\n",
    "x_points, y_points, z_points = np.where(convex_lens_ior_field == 1.5)\n",
    "ax.scatter(x_points, y_points, z_points, color='blue', alpha=0.5)\n",
    "ax.set_title(\"3D Representation of a Sphere\")\n",
    "ax.set_xlabel('X Axis')\n",
    "ax.set_ylabel('Y Axis')\n",
    "ax.set_zlabel('Z Axis')\n",
    "plt.show()"
   ]
  },
  {
   "cell_type": "code",
   "execution_count": null,
   "metadata": {},
   "outputs": [],
   "source": [
    "def compute_3d_gradients(IOR):\n",
    "    grad_x = np.gradient(IOR, axis=0)\n",
    "    grad_y = np.gradient(IOR, axis=1)\n",
    "    grad_z = np.gradient(IOR, axis=2)\n",
    "    return grad_x, grad_y, grad_z\n",
    "\n",
    "grad_x, grad_y, grad_z = compute_3d_gradients(convex_lens_ior_field)\n",
    "\n",
    "plt.figure(figsize=(12, 4))\n",
    "plt.subplot(131)\n",
    "plt.imshow(grad_x[:, :, num_z // 2], cmap='gray')  # Z轴中心切面\n",
    "plt.title('Gradient along x axis')\n",
    "plt.xlabel('x - axis')\n",
    "plt.ylabel('y - axis')\n",
    "\n",
    "plt.subplot(132)\n",
    "plt.imshow(grad_y[num_y // 2, :, :], cmap='gray')  # Y轴中心切面\n",
    "plt.title('Gradient along y axis')\n",
    "plt.xlabel('x - axis')\n",
    "plt.ylabel('z - axis')\n",
    "\n",
    "plt.subplot(133)\n",
    "plt.imshow(grad_z[:, num_x // 2, :], cmap='gray')  # X轴中心切面\n",
    "plt.title('Gradient along z axis')\n",
    "plt.xlabel('y - axis')\n",
    "plt.ylabel('z - axis')\n",
    "\n",
    "plt.tight_layout()\n",
    "plt.show()"
   ]
  },
  {
   "cell_type": "code",
   "execution_count": null,
   "metadata": {},
   "outputs": [],
   "source": [
    "num_x, num_y, num_z = 20, 20, 20\n",
    "center = (num_x//2, num_y//2, num_z//2)\n",
    "radius = 8\n",
    "x, y, z = np.ogrid[:num_x, :num_y, :num_z]\n",
    "mask = (x - center[0])**2 + (y - center[1])**2 + (z - center[2])**2 <= radius**2\n",
    "convex_lens_ior_field = np.ones((num_x, num_y, num_z))\n",
    "convex_lens_ior_field[mask] = 1.5\n",
    "\n",
    "fig = plt.figure()\n",
    "ax = fig.add_subplot(111, projection='3d')\n",
    "ax.set_box_aspect([1,1,1])  # 设置比例为1:1:1\n",
    "ax.set_xlim(0, 20)\n",
    "ax.set_ylim(0, 20)\n",
    "ax.set_zlim(0, 20)\n",
    "x_points, y_points, z_points = np.where(convex_lens_ior_field == 1.5)\n",
    "ax.scatter(x_points, y_points, z_points, color='blue', alpha=0.5)\n",
    "ax.set_title(\"3D Representation of a Sphere\")\n",
    "ax.set_xlabel('X Axis')\n",
    "ax.set_ylabel('Y Axis')\n",
    "ax.set_zlabel('Z Axis')\n",
    "plt.show()"
   ]
  }
 ],
 "metadata": {
  "kernelspec": {
   "display_name": "base",
   "language": "python",
   "name": "python3"
  },
  "language_info": {
   "codemirror_mode": {
    "name": "ipython",
    "version": 3
   },
   "file_extension": ".py",
   "mimetype": "text/x-python",
   "name": "python",
   "nbconvert_exporter": "python",
   "pygments_lexer": "ipython3",
   "version": "3.11.9"
  }
 },
 "nbformat": 4,
 "nbformat_minor": 2
}
